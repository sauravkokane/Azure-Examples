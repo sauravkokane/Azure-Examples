{
  "cells": [
    {
      "cell_type": "code",
      "execution_count": 6,
      "metadata": {},
      "outputs": [
        {
          "name": "stdout",
          "output_type": "stream",
          "text": [
            "Collecting azure-ai-translation-text==1.0.0b1\n",
            "  Downloading azure_ai_translation_text-1.0.0b1-py3-none-any.whl.metadata (16 kB)\n",
            "Requirement already satisfied: msrest>=0.7.1 in /anaconda/envs/azureml_py310_sdkv2/lib/python3.10/site-packages (from azure-ai-translation-text==1.0.0b1) (0.7.1)\n",
            "Requirement already satisfied: azure-core<2.0.0,>=1.24.0 in /anaconda/envs/azureml_py310_sdkv2/lib/python3.10/site-packages (from azure-ai-translation-text==1.0.0b1) (1.33.0)\n",
            "Requirement already satisfied: typing-extensions>=4.3.0 in /anaconda/envs/azureml_py310_sdkv2/lib/python3.10/site-packages (from azure-ai-translation-text==1.0.0b1) (4.13.2)\n",
            "Requirement already satisfied: requests>=2.21.0 in /anaconda/envs/azureml_py310_sdkv2/lib/python3.10/site-packages (from azure-core<2.0.0,>=1.24.0->azure-ai-translation-text==1.0.0b1) (2.32.3)\n",
            "Requirement already satisfied: six>=1.11.0 in /anaconda/envs/azureml_py310_sdkv2/lib/python3.10/site-packages (from azure-core<2.0.0,>=1.24.0->azure-ai-translation-text==1.0.0b1) (1.17.0)\n",
            "Requirement already satisfied: certifi>=2017.4.17 in /anaconda/envs/azureml_py310_sdkv2/lib/python3.10/site-packages (from msrest>=0.7.1->azure-ai-translation-text==1.0.0b1) (2025.1.31)\n",
            "Requirement already satisfied: isodate>=0.6.0 in /anaconda/envs/azureml_py310_sdkv2/lib/python3.10/site-packages (from msrest>=0.7.1->azure-ai-translation-text==1.0.0b1) (0.7.2)\n",
            "Requirement already satisfied: requests-oauthlib>=0.5.0 in /anaconda/envs/azureml_py310_sdkv2/lib/python3.10/site-packages (from msrest>=0.7.1->azure-ai-translation-text==1.0.0b1) (2.0.0)\n",
            "Requirement already satisfied: charset-normalizer<4,>=2 in /anaconda/envs/azureml_py310_sdkv2/lib/python3.10/site-packages (from requests>=2.21.0->azure-core<2.0.0,>=1.24.0->azure-ai-translation-text==1.0.0b1) (3.4.1)\n",
            "Requirement already satisfied: idna<4,>=2.5 in /anaconda/envs/azureml_py310_sdkv2/lib/python3.10/site-packages (from requests>=2.21.0->azure-core<2.0.0,>=1.24.0->azure-ai-translation-text==1.0.0b1) (3.10)\n",
            "Requirement already satisfied: urllib3<3,>=1.21.1 in /anaconda/envs/azureml_py310_sdkv2/lib/python3.10/site-packages (from requests>=2.21.0->azure-core<2.0.0,>=1.24.0->azure-ai-translation-text==1.0.0b1) (2.4.0)\n",
            "Requirement already satisfied: oauthlib>=3.0.0 in /anaconda/envs/azureml_py310_sdkv2/lib/python3.10/site-packages (from requests-oauthlib>=0.5.0->msrest>=0.7.1->azure-ai-translation-text==1.0.0b1) (3.2.2)\n",
            "Downloading azure_ai_translation_text-1.0.0b1-py3-none-any.whl (65 kB)\n",
            "Installing collected packages: azure-ai-translation-text\n",
            "  Attempting uninstall: azure-ai-translation-text\n",
            "    Found existing installation: azure-ai-translation-text 1.0.1\n",
            "    Uninstalling azure-ai-translation-text-1.0.1:\n",
            "      Successfully uninstalled azure-ai-translation-text-1.0.1\n",
            "Successfully installed azure-ai-translation-text-1.0.0b1\n",
            "Note: you may need to restart the kernel to use updated packages.\n"
          ]
        }
      ],
      "source": [
        "%pip install azure-ai-translation-text==1.0.0b1"
      ]
    },
    {
      "cell_type": "code",
      "execution_count": null,
      "metadata": {
        "gather": {
          "logged": 1747631578174
        }
      },
      "outputs": [],
      "source": [
        "apikey = \"\"\n",
        "endpoint = \"https://api.cognitive.microsofttranslator.com\"\n",
        "region = \"centralindia\""
      ]
    },
    {
      "cell_type": "code",
      "execution_count": 8,
      "metadata": {
        "gather": {
          "logged": 1747631315636
        }
      },
      "outputs": [],
      "source": [
        "from azure.core.credentials import AzureKeyCredential\n",
        "from azure.ai.translation.text import TextTranslationClient"
      ]
    },
    {
      "cell_type": "code",
      "execution_count": 11,
      "metadata": {
        "gather": {
          "logged": 1747631599014
        }
      },
      "outputs": [],
      "source": [
        "credential = AzureKeyCredential(apikey)\n",
        "text_translator = TextTranslationClient(credential=credential, region=region)"
      ]
    },
    {
      "cell_type": "code",
      "execution_count": 14,
      "metadata": {
        "gather": {
          "logged": 1747632091232
        }
      },
      "outputs": [
        {
          "name": "stdout",
          "output_type": "stream",
          "text": [
            "Detected languages of the input text: en with score: 0.77.\n",
            "Text was translated to: 'hi' and the result is: 'हाय सौरव Azure अनुवाद हब में आपका स्वागत है'.\n",
            "Text was translated to: 'es' and the result is: 'Hola Saurav, bienvenido a Azure Translate Hub'.\n",
            "Text was translated to: 'de' and the result is: 'Hallo Saurav, Willkommen bei Azure Translate Hub'.\n"
          ]
        }
      ],
      "source": [
        "try:\n",
        "    to_language = [\"hi\", \"es\", \"de\"]\n",
        "    input_text = [\"Hi Saurav Welcome to Azure Translate Hub\"]\n",
        "\n",
        "    response = text_translator.translate(body=input_text, to_language=to_language)\n",
        "    translation = response[0] if response else None\n",
        "\n",
        "    if translation:\n",
        "        detected_language = translation.detected_language\n",
        "        if detected_language:\n",
        "            print(\n",
        "                f\"Detected languages of the input text: {detected_language.language} with score: {detected_language.score}.\"\n",
        "            )\n",
        "        for translated_text in translation.translations:\n",
        "            print(f\"Text was translated to: '{translated_text.to}' and the result is: '{translated_text.text}'.\")\n",
        "\n",
        "except HttpResponseError as exception:\n",
        "    if exception.error is not None:\n",
        "        print(f\"Error Code: {exception.error.code}\")\n",
        "        print(f\"Message: {exception.error.message}\")"
      ]
    },
    {
      "cell_type": "code",
      "execution_count": null,
      "metadata": {},
      "outputs": [],
      "source": []
    }
  ],
  "metadata": {
    "kernel_info": {
      "name": "python310-sdkv2"
    },
    "kernelspec": {
      "display_name": "Python 3.10 - SDK v2",
      "language": "python",
      "name": "python310-sdkv2"
    },
    "language_info": {
      "codemirror_mode": {
        "name": "ipython",
        "version": 3
      },
      "file_extension": ".py",
      "mimetype": "text/x-python",
      "name": "python",
      "nbconvert_exporter": "python",
      "pygments_lexer": "ipython3",
      "version": "3.10.16"
    },
    "microsoft": {
      "ms_spell_check": {
        "ms_spell_check_language": "en"
      }
    },
    "nteract": {
      "version": "nteract-front-end@1.0.0"
    }
  },
  "nbformat": 4,
  "nbformat_minor": 2
}
